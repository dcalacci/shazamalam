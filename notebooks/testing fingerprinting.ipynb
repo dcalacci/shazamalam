{
 "metadata": {
  "name": "",
  "signature": "sha256:38e5133305f976c20ab57be2e40ae8e986f677a2dfc44b51d4276823f28864d9"
 },
 "nbformat": 3,
 "nbformat_minor": 0,
 "worksheets": [
  {
   "cells": [
    {
     "cell_type": "code",
     "collapsed": false,
     "input": [
      "import sys\n",
      "sys.path.insert(2, '../src/')\n",
      "# project imports\n",
      "import read_audio, fingerprinting, match, datastore\n",
      "from scipy.io import wavfile"
     ],
     "language": "python",
     "metadata": {},
     "outputs": [],
     "prompt_number": 1
    },
    {
     "cell_type": "code",
     "collapsed": false,
     "input": [
      "%load_ext autoreload\n",
      "%autoreload 2"
     ],
     "language": "python",
     "metadata": {},
     "outputs": [],
     "prompt_number": 2
    },
    {
     "cell_type": "code",
     "collapsed": false,
     "input": [
      "def get_match(fpath, dstore):\n",
      "    samples = read_audio.get_mono(fpath)\n",
      "    hashes = fingerprinting.get_fingerprints(samples)\n",
      "    # print len(list(match.get_matches_for_hashes(hashes, dstore)))\n",
      "    return match.get_match(hashes, dstore)"
     ],
     "language": "python",
     "metadata": {},
     "outputs": [],
     "prompt_number": 14
    },
    {
     "cell_type": "code",
     "collapsed": false,
     "input": [
      "dstore = datastore.Datastore()\n",
      "dstore.add_fingerprints('../D5/WhoopeeTiYiYo.wav')\n",
      "dstore.add_fingerprints('../D4/MMw.wav')\n",
      "dstore.add_fingerprints('../D4/Mpmm.wav')\n",
      "dstore.add_fingerprints('../D4/mMbm.wav')"
     ],
     "language": "python",
     "metadata": {},
     "outputs": [],
     "prompt_number": 26
    },
    {
     "cell_type": "code",
     "collapsed": false,
     "input": [
      "get_match('../D4/MMw.wav', dstore)"
     ],
     "language": "python",
     "metadata": {},
     "outputs": [
      {
       "metadata": {},
       "output_type": "pyout",
       "prompt_number": 31,
       "text": [
        "[('../D5/WhoopeeTiYiYo.wav', 74.803083900226767, 40.042811791383222),\n",
        " ('../D4/Mpmm.wav', 37.418956916099773, 0.034829931972789122),\n",
        " ('../D4/mMbm.wav', 37.418956916099773, 16.033378684807257)]"
       ]
      }
     ],
     "prompt_number": 31
    },
    {
     "cell_type": "code",
     "collapsed": false,
     "input": [
      "get_match('../D4/mmsm.wav', dstore)"
     ],
     "language": "python",
     "metadata": {},
     "outputs": [
      {
       "metadata": {},
       "output_type": "pyout",
       "prompt_number": 33,
       "text": [
        "[('../D4/MMw.wav', 44.942222222222213, 46.521179138321997),\n",
        " ('../D4/Mpmm.wav', 43.920544217687073, 87.20253968253968),\n",
        " ('../D4/mMbm.wav', 44.338503401360548, 60.824671201814063)]"
       ]
      }
     ],
     "prompt_number": 33
    },
    {
     "cell_type": "code",
     "collapsed": false,
     "input": [
      "!open ../D4/"
     ],
     "language": "python",
     "metadata": {},
     "outputs": [],
     "prompt_number": 34
    },
    {
     "cell_type": "code",
     "collapsed": false,
     "input": [
      "%%timeit\n",
      "dstore = datastore.Datastore()\n",
      "dstore.add_fingerprints('../D5/WhoopeeTiYiYo.wav')\n",
      "dstore.add_fingerprints('../D4/MMw.wav')"
     ],
     "language": "python",
     "metadata": {},
     "outputs": [
      {
       "output_type": "stream",
       "stream": "stdout",
       "text": [
        "1 loops, best of 3: 6.04 s per loop\n"
       ]
      }
     ],
     "prompt_number": 5
    },
    {
     "cell_type": "code",
     "collapsed": false,
     "input": [
      "%%timeit\n",
      "get_match('../D4/MMw.wav', dstore)"
     ],
     "language": "python",
     "metadata": {},
     "outputs": [
      {
       "output_type": "stream",
       "stream": "stdout",
       "text": [
        "1 loops, best of 3: 2.43 s per loop\n"
       ]
      }
     ],
     "prompt_number": 17
    },
    {
     "cell_type": "code",
     "collapsed": false,
     "input": [
      "\n",
      "match.get_match(hashes, dstore)"
     ],
     "language": "python",
     "metadata": {},
     "outputs": [
      {
       "output_type": "stream",
       "stream": "stdout",
       "text": [
        "likely matches: [(0, -1497), (1, 0)]\n"
       ]
      },
      {
       "metadata": {},
       "output_type": "pyout",
       "prompt_number": 393,
       "text": [
        "[('../D5/WhoopeeTiYiYo.wav\\n', 74.803083900226767, 40.042811791383222),\n",
        " ('../D4/MMw.wav\\n', 0.49922902494331073, 0.49922902494331073)]"
       ]
      }
     ],
     "prompt_number": 393
    },
    {
     "cell_type": "code",
     "collapsed": false,
     "input": [
      "match."
     ],
     "language": "python",
     "metadata": {},
     "outputs": []
    }
   ],
   "metadata": {}
  }
 ]
}