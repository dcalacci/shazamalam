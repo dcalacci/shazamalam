{
 "metadata": {
  "name": "",
  "signature": "sha256:dbd90dda136e72068e2c67a1a6ecd468ca7ee681842673a49fe64a6112afbd3b"
 },
 "nbformat": 3,
 "nbformat_minor": 0,
 "worksheets": [
  {
   "cells": [
    {
     "cell_type": "code",
     "collapsed": false,
     "input": [
      "import os\n",
      "import wave"
     ],
     "language": "python",
     "metadata": {},
     "outputs": [],
     "prompt_number": 1
    },
    {
     "cell_type": "code",
     "collapsed": false,
     "input": [
      "# add project-specific src directories\n",
      "import sys\n",
      "sys.path.insert(2, '../src/')\n",
      "# project imports\n",
      "import fft\n"
     ],
     "language": "python",
     "metadata": {},
     "outputs": [],
     "prompt_number": 2
    },
    {
     "cell_type": "code",
     "collapsed": false,
     "input": [
      "%load_ext autoreload\n",
      "%autoreload 2"
     ],
     "language": "python",
     "metadata": {},
     "outputs": [],
     "prompt_number": 3
    },
    {
     "cell_type": "code",
     "collapsed": false,
     "input": [
      "data_dir = '../data/'"
     ],
     "language": "python",
     "metadata": {},
     "outputs": [],
     "prompt_number": 4
    },
    {
     "cell_type": "markdown",
     "metadata": {},
     "source": [
      "---"
     ]
    },
    {
     "cell_type": "code",
     "collapsed": false,
     "input": [
      "stream_01, sample_rate_01 = read_wav.mono_channel(os.path.join(data_dir, 'z01.wav'))"
     ],
     "language": "python",
     "metadata": {},
     "outputs": [],
     "prompt_number": 20
    },
    {
     "cell_type": "code",
     "collapsed": false,
     "input": [
      "stream_02, sample_rate_02 = read_wav.mono_channel(os.path.join(data_dir, 'z02.wav'))"
     ],
     "language": "python",
     "metadata": {},
     "outputs": [],
     "prompt_number": 21
    },
    {
     "cell_type": "code",
     "collapsed": false,
     "input": [
      "stream_01[:10]"
     ],
     "language": "python",
     "metadata": {},
     "outputs": [
      {
       "metadata": {},
       "output_type": "pyout",
       "prompt_number": 22,
       "text": [
        "[10136.0,\n",
        " 9761.0,\n",
        " 10277.0,\n",
        " 9907.0,\n",
        " 10029.0,\n",
        " 9079.0,\n",
        " 9717.0,\n",
        " 7967.0,\n",
        " 9239.0,\n",
        " 6424.0]"
       ]
      }
     ],
     "prompt_number": 22
    },
    {
     "cell_type": "code",
     "collapsed": false,
     "input": [
      "stream_02[:10]"
     ],
     "language": "python",
     "metadata": {},
     "outputs": [
      {
       "metadata": {},
       "output_type": "pyout",
       "prompt_number": 23,
       "text": [
        "[10139.0,\n",
        " 9762.0,\n",
        " 10277.0,\n",
        " 9907.0,\n",
        " 10028.0,\n",
        " 9078.0,\n",
        " 9718.0,\n",
        " 7964.0,\n",
        " 9238.0,\n",
        " 6425.0]"
       ]
      }
     ],
     "prompt_number": 23
    },
    {
     "cell_type": "code",
     "collapsed": false,
     "input": [
      "wr01 = wave.open(os.path.join(data_dir, 'z01.wav'))\n",
      "wr01.readframes(10)"
     ],
     "language": "python",
     "metadata": {},
     "outputs": [
      {
       "metadata": {},
       "output_type": "pyout",
       "prompt_number": 24,
       "text": [
        "\"\\x98'!&%(\\xb3&-'w#\\xf5%\\x1f\\x1f\\x17$\\x18\\x19\\xf2\\x1f\\x0e\\x11\\n\\x1b\\xe4\\n\\x07\\x1aB\\x08x\\x1e\\x1a\\x0c\\xf5$\\xd5\\x16\""
       ]
      }
     ],
     "prompt_number": 24
    },
    {
     "cell_type": "code",
     "collapsed": false,
     "input": [
      "wr01 = wave.open(os.path.join(data_dir, 'z02.wav'))\n",
      "wr01.readframes(10)"
     ],
     "language": "python",
     "metadata": {},
     "outputs": [
      {
       "metadata": {},
       "output_type": "pyout",
       "prompt_number": 25,
       "text": [
        "'\\x9b\\'\"&%(\\xb3&,\\'v#\\xf6%\\x1c\\x1f\\x16$\\x19\\x19\\xf2\\x1f\\x0e\\x11\\t\\x1b\\xe7\\n\\x06\\x1aC\\x08{\\x1e\\x19\\x0c\\xf5$\\xd5\\x16'"
       ]
      }
     ],
     "prompt_number": 25
    },
    {
     "cell_type": "code",
     "collapsed": false,
     "input": [
      "len(res)"
     ],
     "language": "python",
     "metadata": {},
     "outputs": [
      {
       "metadata": {},
       "output_type": "pyout",
       "prompt_number": 9,
       "text": [
        "882000"
       ]
      }
     ],
     "prompt_number": 9
    },
    {
     "cell_type": "code",
     "collapsed": false,
     "input": [
      "len(stream)"
     ],
     "language": "python",
     "metadata": {},
     "outputs": [
      {
       "metadata": {},
       "output_type": "pyout",
       "prompt_number": 10,
       "text": [
        "882000"
       ]
      }
     ],
     "prompt_number": 10
    },
    {
     "cell_type": "code",
     "collapsed": false,
     "input": [
      "wr = wave.open(os.path.join(data_dir, 'z01.wav'))"
     ],
     "language": "python",
     "metadata": {},
     "outputs": [],
     "prompt_number": 19
    },
    {
     "cell_type": "code",
     "collapsed": false,
     "input": [
      "wr.getparams()"
     ],
     "language": "python",
     "metadata": {},
     "outputs": [
      {
       "metadata": {},
       "output_type": "pyout",
       "prompt_number": 17,
       "text": [
        "(2, 2, 44100, 441000, 'NONE', 'not compressed')"
       ]
      }
     ],
     "prompt_number": 17
    },
    {
     "cell_type": "code",
     "collapsed": false,
     "input": [
      "../data/"
     ],
     "language": "python",
     "metadata": {},
     "outputs": []
    },
    {
     "cell_type": "code",
     "collapsed": false,
     "input": [
      "import match\n",
      "import numpy "
     ],
     "language": "python",
     "metadata": {},
     "outputs": [],
     "prompt_number": 3
    },
    {
     "cell_type": "code",
     "collapsed": false,
     "input": [
      "match.get_mono"
     ],
     "language": "python",
     "metadata": {},
     "outputs": []
    },
    {
     "cell_type": "code",
     "collapsed": false,
     "input": [
      "import numpy as np\n",
      "from scipy.io import wavfile\n",
      "\n",
      "def get_mono(fpath):\n",
      "    \"\"\" Converts the given wav file to 5512Hz PCM Mono\n",
      "    \"\"\"\n",
      "    samplerate, channels = wavfile.read(fpath)\n",
      "    return np.mean(channels, axis=1)"
     ],
     "language": "python",
     "metadata": {},
     "outputs": [],
     "prompt_number": 19
    },
    {
     "cell_type": "code",
     "collapsed": false,
     "input": [
      "def mse(A, B):\n",
      "    #convert from complex to real vectors\n",
      "    A = map(convert, A)\n",
      "    B = map(convert, B)\n",
      "    #caluclate euclidean distance between A and B\n",
      "    dist = [distance.euclidean(a,b) ** 2 for a, b in zip(A, B)]\n",
      "    return np.mean(dist)"
     ],
     "language": "python",
     "metadata": {},
     "outputs": []
    },
    {
     "cell_type": "code",
     "collapsed": false,
     "input": [
      "z01 = get_mono('../data/z01.wav')\n",
      "z02 = get_mono('../data/z05.wav')"
     ],
     "language": "python",
     "metadata": {},
     "outputs": [],
     "prompt_number": 27
    },
    {
     "cell_type": "code",
     "collapsed": false,
     "input": [
      "np.dstack([z01, z02])[0]"
     ],
     "language": "python",
     "metadata": {},
     "outputs": [
      {
       "metadata": {},
       "output_type": "pyout",
       "prompt_number": 36,
       "text": [
        "array([[  9948.5,  11150.5],\n",
        "       [ 10092. ,   9677. ],\n",
        "       [  9554. ,   8229.5],\n",
        "       ..., \n",
        "       [ -5257. ,  -5854. ],\n",
        "       [ -4042.5,  -3997. ],\n",
        "       [ -2156.5,  -1994.5]])"
       ]
      }
     ],
     "prompt_number": 36
    },
    {
     "cell_type": "code",
     "collapsed": false,
     "input": [
      "np.mean([abs(a - b) ** 2 for a, b in  np.dstack([z01, z02])[0]])"
     ],
     "language": "python",
     "metadata": {},
     "outputs": [
      {
       "metadata": {},
       "output_type": "pyout",
       "prompt_number": 46,
       "text": [
        "158891459.84634298"
       ]
      }
     ],
     "prompt_number": 46
    },
    {
     "cell_type": "code",
     "collapsed": false,
     "input": [
      "match.fft('../data/z01.wav')"
     ],
     "language": "python",
     "metadata": {},
     "outputs": [
      {
       "metadata": {},
       "output_type": "pyout",
       "prompt_number": 37,
       "text": [
        "array([ 1292984.50000000      +0.j        ,\n",
        "        1087538.68086148 -236766.76432563j,\n",
        "       -1546519.78285878+1033734.65951854j, ...,\n",
        "        -905800.25706673-1520717.55708944j,\n",
        "       -1546519.78285878-1033734.65951852j,\n",
        "        1087538.68086146 +236766.76432563j])"
       ]
      }
     ],
     "prompt_number": 37
    },
    {
     "cell_type": "code",
     "collapsed": false,
     "input": [
      "t = map(match.convert, match.fft('../data/z01.wav'))"
     ],
     "language": "python",
     "metadata": {},
     "outputs": [],
     "prompt_number": 40
    },
    {
     "cell_type": "code",
     "collapsed": false,
     "input": [
      "np.real(match.fft('../data/z01.wav'))"
     ],
     "language": "python",
     "metadata": {},
     "outputs": [
      {
       "metadata": {},
       "output_type": "pyout",
       "prompt_number": 42,
       "text": [
        "array([ 1292984.5       ,  1087538.68086148, -1546519.78285878, ...,\n",
        "        -905800.25706673, -1546519.78285878,  1087538.68086146])"
       ]
      }
     ],
     "prompt_number": 42
    },
    {
     "cell_type": "code",
     "collapsed": false,
     "input": [
      "\n",
      "def downsample(stream):\n",
      "    \"\"\" Downsample from 44100 -> 5512Hz\n",
      "    \"\"\"\n",
      "    return decimate(stream, 8)\n",
      "\n",
      "def get_mono(fpath):\n",
      "    \"\"\" Converts the given wav file to 5512Hz PCM Mono\n",
      "    \"\"\"\n",
      "    samplerate, channels = wavfile.read(fpath)\n",
      "    return np.mean(channels, axis=1)\n",
      "\n",
      "def fft(fpath):\n",
      "    mono_stream = get_mono(fpath)\n",
      "    return np.fft.fft(mono_stream)\n",
      "\n",
      "def mse(A, B):\n",
      "    return ((np.real(A) - np.real(B)) ** 2).mean()\n",
      "\n",
      "def similarity(f1, f2):\n",
      "    ffts = map(fft, [f1, f2])\n",
      "    return mse(ffts[0], ffts[1])"
     ],
     "language": "python",
     "metadata": {},
     "outputs": [],
     "prompt_number": 55
    },
    {
     "cell_type": "code",
     "collapsed": false,
     "input": [
      "similarity('../data/z01.wav', '../data/z02.wav')"
     ],
     "language": "python",
     "metadata": {},
     "outputs": [
      {
       "metadata": {},
       "output_type": "pyout",
       "prompt_number": 56,
       "text": [
        "247141.99999999971"
       ]
      }
     ],
     "prompt_number": 56
    },
    {
     "cell_type": "code",
     "collapsed": false,
     "input": [
      "similarity('../data/z01.wav', '../data/z06.wav')"
     ],
     "language": "python",
     "metadata": {},
     "outputs": [
      {
       "metadata": {},
       "output_type": "pyout",
       "prompt_number": 57,
       "text": [
        "36780463382812.633"
       ]
      }
     ],
     "prompt_number": 57
    },
    {
     "cell_type": "code",
     "collapsed": false,
     "input": [
      "similarity('../data/z03.wav', '../data/z04.wav')"
     ],
     "language": "python",
     "metadata": {},
     "outputs": [
      {
       "metadata": {},
       "output_type": "pyout",
       "prompt_number": 59,
       "text": [
        "148965953915.5"
       ]
      }
     ],
     "prompt_number": 59
    },
    {
     "cell_type": "code",
     "collapsed": false,
     "input": [
      "148965953915\n",
      "150000000000"
     ],
     "language": "python",
     "metadata": {},
     "outputs": [
      {
       "metadata": {},
       "output_type": "pyout",
       "prompt_number": 60,
       "text": [
        "False"
       ]
      }
     ],
     "prompt_number": 60
    }
   ],
   "metadata": {}
  }
 ]
}